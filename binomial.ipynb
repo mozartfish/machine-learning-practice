{
 "cells": [
  {
   "cell_type": "code",
   "execution_count": 3,
   "id": "8c9aa798-28f0-4fb9-ae19-ef4f90044a0c",
   "metadata": {},
   "outputs": [],
   "source": [
    "import numpy as np \n",
    "import matplotlib.pyplot as plt \n",
    "import scipy "
   ]
  },
  {
   "cell_type": "code",
   "execution_count": 114,
   "id": "2c072591-be98-4ff0-b10e-89d3a9a2c770",
   "metadata": {},
   "outputs": [],
   "source": [
    "# a function for binomial sampling following 3Blue1Brown Tutorial \n",
    "# trials - number of trials \n",
    "# sample size - the number of samples in a trial \n",
    "# success threshold - parameter that person modifies - Grant demos with 0.95 \n",
    "def binomialSampling(trials, sample_size, success):\n",
    "    samples = np.random.rand(trials, sample_size)\n",
    "    sample_success_frequency = [0] * trials\n",
    "\n",
    "    for trial, sample in enumerate(samples):\n",
    "        success_samples = [0] * sample_size\n",
    "        success_count = 0\n",
    "        for val_indx, val in enumerate(sample):\n",
    "            if val < success:\n",
    "                success_samples[val_indx] = 1 \n",
    "                success_count += 1 \n",
    "                # print(f\"success_count: {success_count}\")\n",
    "            else:\n",
    "                success_samples[val_indx] = 0\n",
    "        sample_success_frequency[trial] = success_count\n",
    "\n",
    "    print(f\"sample_success_frequency: {sample_success_frequency}\")\n",
    "    return sample_success_frequency"
   ]
  },
  {
   "cell_type": "code",
   "execution_count": 118,
   "id": "b7bf5878-c797-4f38-83fb-a884253bc42a",
   "metadata": {},
   "outputs": [],
   "source": [
    "# a function for plotting the binomial histogram function \n",
    "def plotHistogram(data):\n",
    "    plt.hist(data, color='red', edgecolor='black')\n",
    "    # labels \n",
    "    plt.xlabel('Success Values')\n",
    "    plt.ylabel('Frequency')\n",
    "    plt.show()\n",
    "\n"
   ]
  },
  {
   "cell_type": "code",
   "execution_count": 119,
   "id": "abdcf37f-41e0-4a2f-a355-c9fe20276072",
   "metadata": {},
   "outputs": [
    {
     "name": "stdout",
     "output_type": "stream",
     "text": [
      "sample_success_frequency: [10, 8, 9, 10, 10, 10, 10, 10, 10, 10, 9, 8, 10, 10, 10, 10, 10, 10, 9, 10, 10, 10, 10, 9, 10, 9, 10, 10, 10, 9, 10, 10, 8, 9, 9, 10, 9, 10, 10, 10, 10, 7, 9, 10, 9, 9, 10, 10, 10, 10, 10, 10, 10, 9, 9, 10, 10, 10, 10, 10, 8, 10, 10, 9, 10, 10, 10, 9, 9, 10, 10, 9, 10, 10, 10, 10, 8, 9, 9, 10, 10, 10, 9, 10, 10, 10, 10, 10, 10, 10, 10, 8, 10, 10, 10, 10, 10, 10, 9, 9]\n"
     ]
    },
    {
     "data": {
      "image/png": "[encoded data removed]",
      "text/plain": [
       "<Figure size 640x480 with 1 Axes>"
      ]
     },
     "metadata": {},
     "output_type": "display_data"
    }
   ],
   "source": [
    "data = binomialSampling(100, 10, 0.95)\n",
    "plotHistogram(data)"
   ]
  },
  {
   "cell_type": "code",
   "execution_count": null,
   "id": "54697808-3ae0-4c35-9317-4653337032c4",
   "metadata": {},
   "outputs": [],
   "source": [
    "    "
   ]
  }
 ],
 "metadata": {
  "kernelspec": {
   "display_name": "Python 3 (ipykernel)",
   "language": "python",
   "name": "python3"
  },
  "language_info": {
   "codemirror_mode": {
    "name": "ipython",
    "version": 3
   },
   "file_extension": ".py",
   "mimetype": "text/x-python",
   "name": "python",
   "nbconvert_exporter": "python",
   "pygments_lexer": "ipython3",
   "version": "3.13.0"
  }
 },
 "nbformat": 4,
 "nbformat_minor": 5
}
