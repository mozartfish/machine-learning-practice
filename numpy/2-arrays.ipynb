{
 "cells": [
  {
   "cell_type": "code",
   "execution_count": 58,
   "metadata": {},
   "outputs": [],
   "source": [
    "import numpy as np "
   ]
  },
  {
   "cell_type": "code",
   "execution_count": 59,
   "metadata": {},
   "outputs": [],
   "source": [
    "# seed for reproducibility\n",
    "np.random.seed(0)  \n",
    "\n",
    "# One-dimensional array\n",
    "x1 = np.random.randint(10, size=6)  \n",
    "\n",
    "# Two-dimensional array\n",
    "x2 = np.random.randint(10, size=(3, 4)) \n",
    "\n",
    "# Three-dimensional array\n",
    "x3 = np.random.randint(10, size=(3, 4, 5))  "
   ]
  },
  {
   "cell_type": "code",
   "execution_count": 60,
   "metadata": {},
   "outputs": [
    {
     "name": "stdout",
     "output_type": "stream",
     "text": [
      "x3 ndim:  3\n",
      "x3 shape:  (3, 4, 5)\n",
      "x3 size:  60\n",
      "dtype:  int64\n",
      "itemsize: 8 bytes\n",
      "nbytes: 480 bytes\n"
     ]
    }
   ],
   "source": [
    "# number of dimensions \n",
    "print(\"x3 ndim: \", x3.ndim) \n",
    "\n",
    "# size of dimensions\n",
    "print(\"x3 shape: \", x3.shape) \n",
    "\n",
    "# size of the total array \n",
    "print(\"x3 size: \", x3.size) \n",
    "\n",
    "# data type of the array \n",
    "print(\"dtype: \", x3.dtype) \n",
    "\n",
    "# the size (in bytes) of each array element \n",
    "print(\"itemsize:\", x3.itemsize, \"bytes\") \n",
    "\n",
    "# the total size(in bytes) of the array\n",
    "print(\"nbytes:\", x3.nbytes, \"bytes\") "
   ]
  },
  {
   "cell_type": "code",
   "execution_count": 61,
   "metadata": {},
   "outputs": [
    {
     "name": "stdout",
     "output_type": "stream",
     "text": [
      "[5 0 3 3 7 9]\n",
      "\n",
      "5\n",
      "\n",
      "7\n",
      "\n",
      "9\n",
      "\n",
      "7\n"
     ]
    }
   ],
   "source": [
    "# one-dimensional array \n",
    "\n",
    "# whole list \n",
    "print(x1)\n",
    "print()\n",
    "\n",
    "# first element \n",
    "print(x1[0])\n",
    "print()\n",
    "\n",
    "# ith element \n",
    "print(x1[4])\n",
    "print()\n",
    "\n",
    "# last element \n",
    "print(x1[-1])\n",
    "print()\n",
    "\n",
    "# ith last element \n",
    "print(x1[-2])"
   ]
  },
  {
   "cell_type": "code",
   "execution_count": 62,
   "metadata": {},
   "outputs": [
    {
     "name": "stdout",
     "output_type": "stream",
     "text": [
      "[[3 5 2 4]\n",
      " [7 6 8 8]\n",
      " [1 6 7 7]]\n",
      "\n",
      "3\n",
      "\n",
      "1\n",
      "\n",
      "7\n",
      "\n",
      "[[12  5  2  4]\n",
      " [ 7  6  8  8]\n",
      " [ 1  6  7  7]]\n"
     ]
    }
   ],
   "source": [
    "# multi-dimensional arrays \n",
    "print(x2)\n",
    "print()\n",
    "\n",
    "# print various elements \n",
    "print(x2[0, 0])\n",
    "print()\n",
    "\n",
    "print(x2[2, 0])\n",
    "print()\n",
    "\n",
    "print(x2[2, -1])\n",
    "print()\n",
    "\n",
    "# modify values \n",
    "x2[0, 0] = 12\n",
    "print(x2)"
   ]
  },
  {
   "cell_type": "code",
   "execution_count": 63,
   "metadata": {},
   "outputs": [
    {
     "name": "stdout",
     "output_type": "stream",
     "text": [
      "[3 0 3 3 7 9]\n"
     ]
    }
   ],
   "source": [
    "# precision trunkation \n",
    "# this will be truncated!\n",
    "x1[0] = 3.14159 \n",
    "print(x1)"
   ]
  },
  {
   "cell_type": "code",
   "execution_count": 64,
   "metadata": {},
   "outputs": [
    {
     "name": "stdout",
     "output_type": "stream",
     "text": [
      "[0 1 2 3 4 5 6 7 8 9]\n",
      "\n",
      "[0 1 2 3 4]\n",
      "\n",
      "[5 6 7 8 9]\n",
      "\n",
      "[4 5 6]\n",
      "\n",
      "[0 2 4 6 8]\n",
      "\n",
      "[1 3 5 7 9]\n"
     ]
    }
   ],
   "source": [
    "# one-dimensional array slicing \n",
    "x = np.arange(10)\n",
    "\n",
    "# whole list \n",
    "print(x)\n",
    "print()\n",
    "\n",
    "# first five elements \n",
    "print(x[:5])\n",
    "print()\n",
    "\n",
    "# elements after index 5 \n",
    "print(x[5:])\n",
    "print()\n",
    "\n",
    "# middle subarray \n",
    "print(x[4:7])\n",
    "print()\n",
    "\n",
    "# every other element\n",
    "print(x[::2])\n",
    "print()\n",
    "\n",
    "# every other element starting at index 1 \n",
    "print(x[1::2])\n"
   ]
  },
  {
   "cell_type": "code",
   "execution_count": 65,
   "metadata": {},
   "outputs": [
    {
     "name": "stdout",
     "output_type": "stream",
     "text": [
      "[[12  5  2  4]\n",
      " [ 7  6  8  8]\n",
      " [ 1  6  7  7]]\n",
      "\n",
      "[[12  5  2]\n",
      " [ 7  6  8]]\n",
      "\n",
      "[[12  2]\n",
      " [ 7  8]\n",
      " [ 1  7]]\n",
      "\n",
      "[[ 7  7  6  1]\n",
      " [ 8  8  6  7]\n",
      " [ 4  2  5 12]]\n",
      "\n",
      "[12  7  1]\n",
      "\n",
      "[12  5  2  4]\n",
      "\n",
      "[12  5  2  4]\n"
     ]
    }
   ],
   "source": [
    "# multi-dimensional array slicing \n",
    "print(x2)\n",
    "print()\n",
    "\n",
    "# two rows, 3 cols \n",
    "print(x2[:2, :3])\n",
    "print()\n",
    "\n",
    "# all rows, every other col \n",
    "print(x2[:3, ::2])\n",
    "print()\n",
    "\n",
    "# reverse subarray dimensions\n",
    "print(x2[::-1, ::-1])\n",
    "print()\n",
    "\n",
    "# x2 first col \n",
    "print(x2[:, 0])\n",
    "print()\n",
    "\n",
    "# x2 first row \n",
    "print(x2[0, :])\n",
    "print()\n",
    "\n",
    "# first row compact syntax \n",
    "print(x2[0])"
   ]
  },
  {
   "cell_type": "code",
   "execution_count": 66,
   "metadata": {},
   "outputs": [
    {
     "name": "stdout",
     "output_type": "stream",
     "text": [
      "[[12  5  2  4]\n",
      " [ 7  6  8  8]\n",
      " [ 1  6  7  7]]\n",
      "\n",
      "[[12  5]\n",
      " [ 7  6]]\n",
      "\n",
      "[[99  5]\n",
      " [ 7  6]]\n",
      "\n",
      "[[99  5  2  4]\n",
      " [ 7  6  8  8]\n",
      " [ 1  6  7  7]]\n",
      "\n",
      "[[99  5]\n",
      " [ 7  6]]\n",
      "\n",
      "[[42  5]\n",
      " [ 7  6]]\n",
      "\n",
      "[[99  5  2  4]\n",
      " [ 7  6  8  8]\n",
      " [ 1  6  7  7]]\n"
     ]
    }
   ],
   "source": [
    "# subarrays no-copy view \n",
    "\n",
    "# x2 original \n",
    "print(x2)\n",
    "print()\n",
    "\n",
    "# subarray of x2 \n",
    "x2_sub = x2[:2, :2]\n",
    "print(x2_sub)\n",
    "print()\n",
    "\n",
    "# modify subarray \n",
    "x2_sub[0, 0] = 99\n",
    "print(x2_sub)\n",
    "print()\n",
    "\n",
    "# modify x2 \n",
    "print(x2)\n",
    "print()\n",
    "\n",
    "# array copy \n",
    "x2_sub_copy = x2[:2, :2].copy()\n",
    "print(x2_sub_copy)\n",
    "print()\n",
    "\n",
    "# modify array copy \n",
    "x2_sub_copy[0, 0] = 42\n",
    "print(x2_sub_copy)\n",
    "print()\n",
    "\n",
    "# x2 \n",
    "print(x2)\n"
   ]
  },
  {
   "cell_type": "code",
   "execution_count": 67,
   "metadata": {},
   "outputs": [
    {
     "name": "stdout",
     "output_type": "stream",
     "text": [
      "[[1 2 3]\n",
      " [4 5 6]\n",
      " [7 8 9]]\n",
      "\n",
      "\n",
      "[[1 2 3]]\n",
      "\n",
      "[[1 2 3]]\n",
      "\n",
      "[[1]\n",
      " [2]\n",
      " [3]]\n",
      "\n",
      "[[1]\n",
      " [2]\n",
      " [3]]\n"
     ]
    }
   ],
   "source": [
    "# array reshaping \n",
    "\n",
    "# reshape 1-9 into a 3x3 grid \n",
    "grid = np.arange(1, 10).reshape((3, 3))\n",
    "print(grid)\n",
    "print()\n",
    "\n",
    "# reshape a one-dimensional array into a two dimensional row or column matrix \n",
    "x = np.array([1, 2, 3])\n",
    "print()\n",
    "\n",
    "# row vector via reshape\n",
    "print(x.reshape((1, 3)))\n",
    "print()\n",
    "\n",
    "# row vector via newaxis\n",
    "print(x[np.newaxis, :])\n",
    "print()\n",
    "\n",
    "# column vector via reshape\n",
    "print(x.reshape((3, 1)))\n",
    "print()\n",
    "\n",
    "# column vector via newaxis\n",
    "print(x[:, np.newaxis])\n"
   ]
  },
  {
   "cell_type": "code",
   "execution_count": 68,
   "metadata": {},
   "outputs": [
    {
     "name": "stdout",
     "output_type": "stream",
     "text": [
      "[1 2 3 3 2 1]\n",
      "\n",
      "[ 1  2  3  3  2  1 99 99 99]\n"
     ]
    }
   ],
   "source": [
    "# one dimensional array concatenation\n",
    "x = np.array([1, 2, 3])\n",
    "y = np.array([3, 2, 1])\n",
    "z = [99, 99, 99]\n",
    "\n",
    "# two array concatenation \n",
    "print(np.concatenate([x, y]))\n",
    "print()\n",
    "\n",
    "# three array concatenation \n",
    "print(np.concatenate([x, y, z]))"
   ]
  },
  {
   "cell_type": "code",
   "execution_count": 69,
   "metadata": {},
   "outputs": [
    {
     "name": "stdout",
     "output_type": "stream",
     "text": [
      "\n"
     ]
    },
    {
     "data": {
      "text/plain": [
       "array([[1, 2, 3, 1, 2, 3],\n",
       "       [4, 5, 6, 4, 5, 6]])"
      ]
     },
     "execution_count": 69,
     "metadata": {},
     "output_type": "execute_result"
    }
   ],
   "source": [
    "# multi-dimensional array concatenation \n",
    "grid = np.array([[1, 2, 3],\n",
    "                 [4, 5, 6]])\n",
    "\n",
    "# concatenate along axis=0 (rows)\n",
    "np.concatenate([grid, grid])\n",
    "print()\n",
    "\n",
    "# concatenate along axis=1 (cols)\n",
    "np.concatenate([grid, grid], axis=1)\n"
   ]
  },
  {
   "cell_type": "code",
   "execution_count": null,
   "metadata": {},
   "outputs": [
    {
     "name": "stdout",
     "output_type": "stream",
     "text": [
      "\n",
      "[[1 2 3]\n",
      " [9 8 7]\n",
      " [6 5 4]]\n",
      "\n",
      "[[ 9  8  7 99]\n",
      " [ 6  5  4 99]]\n"
     ]
    }
   ],
   "source": [
    "# stacking \n",
    "x = np.array([1, 2, 3])\n",
    "grid = np.array([[9, 8, 7],\n",
    "                 [6, 5, 4]])\n",
    "print()\n",
    "\n",
    "# vertically stack the arrays\n",
    "print(np.vstack([x, grid]))\n",
    "print()\n",
    "\n",
    "# horizontally stack the arrays\n",
    "y = np.array([[99],\n",
    "              [99]])\n",
    "print(np.hstack([grid, y]))\n"
   ]
  },
  {
   "cell_type": "code",
   "execution_count": 71,
   "metadata": {},
   "outputs": [
    {
     "name": "stdout",
     "output_type": "stream",
     "text": [
      "[1 2 3] [99 99] [3 2 1]\n"
     ]
    }
   ],
   "source": [
    "# one-dimensional splitting arrays \n",
    "x = [1, 2, 3, 99, 99, 3, 2, 1]\n",
    "\n",
    "# 3 splits - [0:3], [3:5], [5:]\n",
    "x1, x2, x3 = np.split(x, [3, 5])\n",
    "print(x1, x2, x3)"
   ]
  },
  {
   "cell_type": "code",
   "execution_count": 74,
   "metadata": {},
   "outputs": [
    {
     "name": "stdout",
     "output_type": "stream",
     "text": [
      "[[ 0  1  2  3]\n",
      " [ 4  5  6  7]\n",
      " [ 8  9 10 11]\n",
      " [12 13 14 15]]\n",
      "\n",
      "[[0 1 2 3]\n",
      " [4 5 6 7]]\n",
      "\n",
      "[[ 8  9 10 11]\n",
      " [12 13 14 15]]\n",
      "\n",
      "[[ 0  1]\n",
      " [ 4  5]\n",
      " [ 8  9]\n",
      " [12 13]]\n",
      "\n",
      "[[ 2  3]\n",
      " [ 6  7]\n",
      " [10 11]\n",
      " [14 15]]\n"
     ]
    }
   ],
   "source": [
    "# multi-dimensional splitting arrays \n",
    "grid = np.arange(16).reshape((4, 4))\n",
    "print(grid)\n",
    "print()\n",
    "\n",
    "# veritcal split \n",
    "upper, lower = np.vsplit(grid, [2])\n",
    "print(upper)\n",
    "print()\n",
    "print(lower)\n",
    "print()\n",
    "\n",
    "# horizontal split \n",
    "left, right = np.hsplit(grid, [2])\n",
    "print(left)\n",
    "print()\n",
    "print(right)"
   ]
  }
 ],
 "metadata": {
  "kernelspec": {
   "display_name": "workbench",
   "language": "python",
   "name": "python3"
  },
  "language_info": {
   "codemirror_mode": {
    "name": "ipython",
    "version": 3
   },
   "file_extension": ".py",
   "mimetype": "text/x-python",
   "name": "python",
   "nbconvert_exporter": "python",
   "pygments_lexer": "ipython3",
   "version": "3.13.1"
  }
 },
 "nbformat": 4,
 "nbformat_minor": 2
}
