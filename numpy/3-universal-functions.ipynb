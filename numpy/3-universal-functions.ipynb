{
 "cells": [
  {
   "cell_type": "code",
   "execution_count": 11,
   "metadata": {},
   "outputs": [],
   "source": [
    "import numpy as np "
   ]
  },
  {
   "cell_type": "code",
   "execution_count": 12,
   "metadata": {},
   "outputs": [
    {
     "data": {
      "text/plain": [
       "array([0.16666667, 1.        , 0.25      , 0.25      , 0.125     ])"
      ]
     },
     "execution_count": 12,
     "metadata": {},
     "output_type": "execute_result"
    }
   ],
   "source": [
    "# compute the reciprocals for random integers \n",
    "np.random.seed(0)\n",
    "values = np.random.randint(1, 10, size=5)\n",
    "\n",
    "\"\"\"compute the reciprocals of a list of numbers\"\"\"\n",
    "def compute_reciprocals(values):\n",
    "    output = np.empty(len(values))\n",
    "    for i in range(len(values)):\n",
    "        output[i] = 1.0 / values[i]\n",
    "    return output \n",
    "\n",
    "compute_reciprocals(values)"
   ]
  },
  {
   "cell_type": "code",
   "execution_count": 13,
   "metadata": {},
   "outputs": [
    {
     "name": "stdout",
     "output_type": "stream",
     "text": [
      "[0.16666667 1.         0.25       0.25       0.125     ]\n",
      "[0.16666667 1.         0.25       0.25       0.125     ]\n"
     ]
    }
   ],
   "source": [
    "# compute reciprocals \n",
    "print(compute_reciprocals(values))\n",
    "\n",
    "# compute reciprocals vectorized \n",
    "print(1.0 / values)"
   ]
  },
  {
   "cell_type": "code",
   "execution_count": 14,
   "metadata": {},
   "outputs": [
    {
     "name": "stdout",
     "output_type": "stream",
     "text": [
      "647 ms ± 14.7 ms per loop (mean ± std. dev. of 7 runs, 1 loop each)\n"
     ]
    }
   ],
   "source": [
    "# timing computing_reciprocals with standard function \n",
    "big_array = np.random.randint(1, 100, size=1000000)\n",
    "%timeit compute_reciprocals(big_array)"
   ]
  },
  {
   "cell_type": "code",
   "execution_count": 15,
   "metadata": {},
   "outputs": [
    {
     "name": "stdout",
     "output_type": "stream",
     "text": [
      "706 μs ± 15.1 μs per loop (mean ± std. dev. of 7 runs, 1,000 loops each)\n"
     ]
    }
   ],
   "source": [
    "# timing computing reciprocals with ufuncs and vectorized operations \n",
    "%timeit (1.0 / big_array)"
   ]
  },
  {
   "cell_type": "code",
   "execution_count": 18,
   "metadata": {},
   "outputs": [
    {
     "name": "stdout",
     "output_type": "stream",
     "text": [
      "[0.         0.5        0.66666667 0.75       0.8       ]\n",
      "\n",
      "[[  1   2   4]\n",
      " [  8  16  32]\n",
      " [ 64 128 256]]\n",
      "\n",
      "x     = [0 1 2 3]\n",
      "\n",
      "x + 5 = [5 6 7 8]\n",
      "\n",
      "x - 5 = [-5 -4 -3 -2]\n",
      "\n",
      "x * 2 = [0 2 4 6]\n",
      "\n",
      "x / 2 = [0.  0.5 1.  1.5]\n",
      "\n",
      "x // 2 = [0 0 1 1]\n",
      "\n",
      "-x     =  [ 0 -1 -2 -3]\n",
      "\n",
      "x ** 2 =  [0 1 4 9]\n",
      "\n",
      "x % 2  =  [0 1 0 1]\n",
      "\n",
      "[-1.   -2.25 -4.   -6.25]\n",
      "\n"
     ]
    },
    {
     "data": {
      "text/plain": [
       "array([2, 3, 4, 5])"
      ]
     },
     "execution_count": 18,
     "metadata": {},
     "output_type": "execute_result"
    }
   ],
   "source": [
    "# ufuncs examples \n",
    "\n",
    "# one dimensional array \n",
    "print(np.arange(5) / np.arange(1, 6))\n",
    "print()\n",
    "\n",
    "# multi-dimensional array \n",
    "x = np.arange(9).reshape((3, 3))\n",
    "print(2 ** x)\n",
    "print()\n",
    "\n",
    "# arithmetic \n",
    "x = np.arange(4)\n",
    "print(\"x     =\", x)\n",
    "print()\n",
    "print(\"x + 5 =\", x + 5)\n",
    "print()\n",
    "print(\"x - 5 =\", x - 5)\n",
    "print()\n",
    "print(\"x * 2 =\", x * 2)\n",
    "print()\n",
    "print(\"x / 2 =\", x / 2)\n",
    "print()\n",
    "print(\"x // 2 =\", x // 2)  \n",
    "print()\n",
    "print(\"-x     = \", -x)\n",
    "print()\n",
    "print(\"x ** 2 = \", x ** 2)\n",
    "print()\n",
    "print(\"x % 2  = \", x % 2)\n",
    "print()\n",
    "\n",
    "# order of operations \n",
    "print(-(0.5*x + 1) ** 2)\n",
    "print()\n",
    "\n",
    "# operator functions example\n",
    "np.add(x, 2)"
   ]
  },
  {
   "cell_type": "code",
   "execution_count": null,
   "metadata": {},
   "outputs": [
    {
     "name": "stdout",
     "output_type": "stream",
     "text": [
      "[2 1 0 1 2]\n",
      "\n",
      "[2 1 0 1 2]\n",
      "\n",
      "[2 1 0 1 2]\n",
      "\n",
      "[5. 5. 2. 1.]\n"
     ]
    }
   ],
   "source": [
    "# absolute value \n",
    "x = np.array([-2, -1, 0, 1, 2])\n",
    "\n",
    "# python absolute value \n",
    "print(abs(x))\n",
    "print()\n",
    "\n",
    "# numpy absolute value \n",
    "print(np.absolute(x))\n",
    "print()\n",
    "print(np.abs(x))\n",
    "print()\n",
    "\n",
    "# complex absolute value \n",
    "x = np.array([3 - 4j, 4 - 3j, 2 + 0j, 0 + 1j])\n",
    "print(np.abs(x))\n"
   ]
  },
  {
   "cell_type": "code",
   "execution_count": 22,
   "metadata": {},
   "outputs": [
    {
     "name": "stdout",
     "output_type": "stream",
     "text": [
      "theta      =  [0.         1.57079633 3.14159265]\n",
      "\n",
      "sin(theta) =  [0.0000000e+00 1.0000000e+00 1.2246468e-16]\n",
      "\n",
      "cos(theta) =  [ 1.000000e+00  6.123234e-17 -1.000000e+00]\n",
      "\n",
      "tan(theta) =  [ 0.00000000e+00  1.63312394e+16 -1.22464680e-16]\n",
      "\n",
      "x         =  [-1, 0, 1]\n",
      "\n",
      "arcsin(x) =  [-1.57079633  0.          1.57079633]\n",
      "\n",
      "arccos(x) =  [3.14159265 1.57079633 0.        ]\n",
      "\n",
      "arctan(x) =  [-0.78539816  0.          0.78539816]\n"
     ]
    }
   ],
   "source": [
    "# trig functions \n",
    "theta = np.linspace(0, np.pi, 3)\n",
    "\n",
    "# trig functions \n",
    "print(\"theta      = \", theta)\n",
    "print()\n",
    "print(\"sin(theta) = \", np.sin(theta))\n",
    "print()\n",
    "print(\"cos(theta) = \", np.cos(theta))\n",
    "print()\n",
    "print(\"tan(theta) = \", np.tan(theta))\n",
    "print()\n",
    "\n",
    "# inverse trig functions \n",
    "x = [-1, 0, 1]\n",
    "print(\"x         = \", x)\n",
    "print()\n",
    "print(\"arcsin(x) = \", np.arcsin(x))\n",
    "print()\n",
    "print(\"arccos(x) = \", np.arccos(x))\n",
    "print()\n",
    "print(\"arctan(x) = \", np.arctan(x))\n",
    "\n"
   ]
  },
  {
   "cell_type": "code",
   "execution_count": 24,
   "metadata": {},
   "outputs": [
    {
     "name": "stdout",
     "output_type": "stream",
     "text": [
      "x     = [1, 2, 3]\n",
      "\n",
      "e^x   = [ 2.71828183  7.3890561  20.08553692]\n",
      "\n",
      "2^x   = [2. 4. 8.]\n",
      "\n",
      "3^x   = [ 3  9 27]\n",
      "x        = [1, 2, 4, 10]\n",
      "\n",
      "ln(x)    = [0.         0.69314718 1.38629436 2.30258509]\n",
      "\n",
      "log2(x)  = [0.         1.         2.         3.32192809]\n",
      "\n",
      "log10(x) = [0.         0.30103    0.60205999 1.        ]\n",
      "\n",
      "exp(x) - 1 = [0.         0.0010005  0.01005017 0.10517092]\n",
      "\n",
      "log(1 + x) = [0.         0.0009995  0.00995033 0.09531018]\n"
     ]
    }
   ],
   "source": [
    "# logarithms and exponents \n",
    "\n",
    "# exponentials \n",
    "x = [1, 2, 3]\n",
    "print(\"x     =\", x)\n",
    "print()\n",
    "print(\"e^x   =\", np.exp(x))\n",
    "print()\n",
    "print(\"2^x   =\", np.exp2(x))\n",
    "print()\n",
    "print(\"3^x   =\", np.power(3, x))\n",
    "\n",
    "# logarithms \n",
    "x = [1, 2, 4, 10]\n",
    "print(\"x        =\", x)\n",
    "print()\n",
    "print(\"ln(x)    =\", np.log(x))\n",
    "print()\n",
    "print(\"log2(x)  =\", np.log2(x))\n",
    "print()\n",
    "print(\"log10(x) =\", np.log10(x))\n",
    "print()\n",
    "\n",
    "# precision logarithms \n",
    "x = [0, 0.001, 0.01, 0.1]\n",
    "print(\"exp(x) - 1 =\", np.expm1(x))\n",
    "print()\n",
    "print(\"log(1 + x) =\", np.log1p(x))\n"
   ]
  },
  {
   "cell_type": "code",
   "execution_count": 32,
   "metadata": {},
   "outputs": [],
   "source": [
    "# special ufuncs \n",
    "# these are located in scipy import special \n",
    "from scipy import special "
   ]
  },
  {
   "cell_type": "code",
   "execution_count": 27,
   "metadata": {},
   "outputs": [
    {
     "name": "stdout",
     "output_type": "stream",
     "text": [
      "gamma(x)     = [1.0000e+00 2.4000e+01 3.6288e+05]\n",
      "\n",
      "ln|gamma(x)| = [ 0.          3.17805383 12.80182748]\n",
      "\n",
      "beta(x, 2)   = [0.5        0.03333333 0.00909091]\n"
     ]
    }
   ],
   "source": [
    "# Gamma functions (generalized factorials) and related functions\n",
    "x = [1, 5, 10]\n",
    "print(\"gamma(x)     =\", special.gamma(x))\n",
    "print()\n",
    "print(\"ln|gamma(x)| =\", special.gammaln(x))\n",
    "print()\n",
    "print(\"beta(x, 2)   =\", special.beta(x, 2))"
   ]
  },
  {
   "cell_type": "code",
   "execution_count": null,
   "metadata": {},
   "outputs": [
    {
     "name": "stdout",
     "output_type": "stream",
     "text": [
      "erf(x)  = [0.         0.32862676 0.67780119 0.84270079]\n",
      "\n",
      "erfc(x) = [1.         0.67137324 0.32219881 0.15729921]\n",
      "\n",
      "erfinv(x) = [0.         0.27246271 0.73286908        inf]\n"
     ]
    }
   ],
   "source": [
    "# Error function (integral of Gaussian)\n",
    "# its complement, and its inverse\n",
    "x = np.array([0, 0.3, 0.7, 1.0])\n",
    "print(\"erf(x)  =\", special.erf(x))\n",
    "print()\n",
    "print(\"erfc(x) =\", special.erfc(x))\n",
    "print()\n",
    "print(\"erfinv(x) =\", special.erfinv(x))"
   ]
  },
  {
   "cell_type": "code",
   "execution_count": 30,
   "metadata": {},
   "outputs": [
    {
     "name": "stdout",
     "output_type": "stream",
     "text": [
      "[ 0. 10. 20. 30. 40.]\n",
      "\n",
      "[ 1.  0.  2.  0.  4.  0.  8.  0. 16.  0.]\n",
      "\n",
      "15\n",
      "\n",
      "120\n",
      "\n",
      "[ 1  3  6 10 15]\n",
      "\n",
      "[  1   2   6  24 120]\n",
      "\n"
     ]
    }
   ],
   "source": [
    "# advaned ufuncs \n",
    "\n",
    "# specifying output \n",
    "x = np.arange(5)\n",
    "y = np.empty(5)\n",
    "np.multiply(x, 10, out=y)\n",
    "print(y)\n",
    "print()\n",
    "# array views \n",
    "y = np.zeros(10)\n",
    "np.power(2, x, out=y[::2])\n",
    "print(y)\n",
    "print()\n",
    "\n",
    "# aggregation \n",
    "\n",
    "# reduce \n",
    "x = np.arange(1, 6)\n",
    "print(np.add.reduce(x))\n",
    "print()\n",
    "\n",
    "# multiply \n",
    "print(np.multiply.reduce(x))\n",
    "print()\n",
    "\n",
    "# accumulate (intermediate values)\n",
    "print(np.add.accumulate(x))\n",
    "print()\n",
    "print(np.multiply.accumulate(x))\n",
    "print()"
   ]
  },
  {
   "cell_type": "code",
   "execution_count": 31,
   "metadata": {},
   "outputs": [
    {
     "data": {
      "text/plain": [
       "array([[ 1,  2,  3,  4,  5],\n",
       "       [ 2,  4,  6,  8, 10],\n",
       "       [ 3,  6,  9, 12, 15],\n",
       "       [ 4,  8, 12, 16, 20],\n",
       "       [ 5, 10, 15, 20, 25]])"
      ]
     },
     "execution_count": 31,
     "metadata": {},
     "output_type": "execute_result"
    }
   ],
   "source": [
    "# outer products \n",
    "x = np.arange(1, 6)\n",
    "np.multiply.outer(x, x)\n",
    "\n",
    "# create multiplication table \n",
    "x = np.arange(1, 6)\n",
    "np.multiply.outer(x, x)"
   ]
  }
 ],
 "metadata": {
  "kernelspec": {
   "display_name": "workbench",
   "language": "python",
   "name": "python3"
  },
  "language_info": {
   "codemirror_mode": {
    "name": "ipython",
    "version": 3
   },
   "file_extension": ".py",
   "mimetype": "text/x-python",
   "name": "python",
   "nbconvert_exporter": "python",
   "pygments_lexer": "ipython3",
   "version": "3.13.1"
  }
 },
 "nbformat": 4,
 "nbformat_minor": 2
}
